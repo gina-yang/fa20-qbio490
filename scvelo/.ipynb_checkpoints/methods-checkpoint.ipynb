{
 "cells": [
  {
   "cell_type": "code",
   "execution_count": 1,
   "metadata": {},
   "outputs": [],
   "source": [
    "import scvelo as scv"
   ]
  },
  {
   "cell_type": "code",
   "execution_count": 2,
   "metadata": {},
   "outputs": [],
   "source": [
    "scv.settings.verbocity = 3\n",
    "scv.settings.presenter_view = True\n",
    "scv.set_figure_params('scvelo')"
   ]
  },
  {
   "cell_type": "code",
   "execution_count": null,
   "metadata": {},
   "outputs": [
    {
     "name": "stderr",
     "output_type": "stream",
     "text": [
      "Variable names are not unique. To make them unique, call `.var_names_make_unique`.\n",
      "Variable names are not unique. To make them unique, call `.var_names_make_unique`.\n"
     ]
    }
   ],
   "source": [
    "# Read in data from loom files\n",
    "kul19_normal = scv.read('Data/kul19_normal.loom')\n",
    "kul19_border = scv.read('Data/kul19_border.loom')\n",
    "kul19_core = scv.read('Data/kul19_tumor.loom')\n",
    "\n",
    "kul19_normal.var_names_make_unique()\n",
    "kul19_border.var_names_make_unique()\n",
    "kul19_core.var_names_make_unique()"
   ]
  },
  {
   "cell_type": "code",
   "execution_count": null,
   "metadata": {},
   "outputs": [],
   "source": []
  }
 ],
 "metadata": {
  "kernelspec": {
   "display_name": "Python 3",
   "language": "python",
   "name": "python3"
  },
  "language_info": {
   "codemirror_mode": {
    "name": "ipython",
    "version": 3
   },
   "file_extension": ".py",
   "mimetype": "text/x-python",
   "name": "python",
   "nbconvert_exporter": "python",
   "pygments_lexer": "ipython3",
   "version": "3.8.6"
  }
 },
 "nbformat": 4,
 "nbformat_minor": 4
}
